{
 "metadata": {
  "language_info": {
   "codemirror_mode": {
    "name": "ipython",
    "version": 3
   },
   "file_extension": ".py",
   "mimetype": "text/x-python",
   "name": "python",
   "nbconvert_exporter": "python",
   "pygments_lexer": "ipython3",
   "version": "3.8.2-final"
  },
  "orig_nbformat": 2,
  "kernelspec": {
   "name": "python3",
   "display_name": "Python 3"
  }
 },
 "nbformat": 4,
 "nbformat_minor": 2,
 "cells": [
  {
   "source": [
    "# Lissajous-curves\n",
    "Plot two-dimensional curves (for instances the so-called LIssajous curves) with a prescribed parametrization\n",
    "\n",
    "Use\n",
    "--------\n",
    "This notebook plots any parametrized cruve of the form $(x(t), y(t))$ with $t\\in[-\\pi,\\pi]$. Functions $x(t)$ and $y(t)$ must be introduced by the user. The curve is always plotted in the square $[-1,1]\\times [-1,1]$.\n"
   ],
   "cell_type": "markdown",
   "metadata": {}
  },
  {
   "cell_type": "code",
   "execution_count": 17,
   "metadata": {},
   "outputs": [
    {
     "output_type": "display_data",
     "data": {
      "text/plain": "VBox(children=(Output(), Text(value='t', description='Function x(t):', placeholder='x(t)'), Text(value='t', de…",
      "application/vnd.jupyter.widget-view+json": {
       "version_major": 2,
       "version_minor": 0,
       "model_id": "3fb43779baaa4f9d9632afff82d72463"
      }
     },
     "metadata": {}
    }
   ],
   "source": [
    "from numpy import *\n",
    "import matplotlib.pyplot as plt\n",
    "import ipywidgets as widgets\n",
    "from IPython.display import display, clear_output\n",
    "%matplotlib inline\n",
    "\n",
    "# To prevent automatic figure display when execution of the cell ends\n",
    "%config InlineBackend.close_figures=False \n",
    "\n",
    "time = np.linspace(-np.pi, np.pi, 1000)\n",
    "plt.ioff()\n",
    "ax=plt.gca()\n",
    "plt.plot(time,time,'b')\n",
    "plt.xlabel('$x(t)$')\n",
    "plt.ylabel('$y(t)$')\n",
    "plt.axis('square')\n",
    "plt.xlim([-1.,1.])\n",
    "plt.ylim([-1.,1.])\n",
    "out=widgets.Output()\n",
    "\n",
    "def plot(t=0):\n",
    "    ax.lines[0].set_xdata(xfun(time))\n",
    "    ax.lines[0].set_ydata(yfun(time))\n",
    "    with out:\n",
    "        clear_output(wait=True)\n",
    "        display(ax.figure)\n",
    "    \n",
    "# Cells for x(t) and y(t)\n",
    "x = widgets.Text(\n",
    "    value='t',\n",
    "    placeholder='x(t)',\n",
    "    description='Function x(t):',\n",
    "    disabled=False\n",
    ")\n",
    "y = widgets.Text(\n",
    "    value='t',\n",
    "    placeholder='y(t)',\n",
    "    description='Function y(t):',\n",
    "    disabled=False\n",
    ")\n",
    "\n",
    "button=widgets.Button(\n",
    "    description='Plot',\n",
    "    disabled=False,\n",
    "    button_style='',\n",
    "    tooltip='Plot',\n",
    "    icon='check'\n",
    ")\n",
    "vbox=widgets.VBox(children=(out,x,y,button))\n",
    "display(vbox) \n",
    "\n",
    "def on_button_clicked(b):\n",
    "    xfun = lambda t: eval(x.value)\n",
    "    yfun = lambda t: eval(y.value)\n",
    "    ax.lines[0].set_xdata(xfun(time))\n",
    "    ax.lines[0].set_ydata(yfun(time))\n",
    "    plt.axis('square')\n",
    "    plt.xlim([-1.,1.])\n",
    "    plt.ylim([-1.,1.])\n",
    "    with out:\n",
    "        clear_output(wait=True)\n",
    "        display(ax.figure)\n",
    "    \n",
    "button.on_click(on_button_clicked)"
   ]
  },
  {
   "cell_type": "code",
   "execution_count": null,
   "metadata": {},
   "outputs": [],
   "source": []
  }
 ]
}