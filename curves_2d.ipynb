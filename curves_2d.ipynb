{
 "cells": [
  {
   "cell_type": "code",
   "execution_count": 3,
   "metadata": {
    "scrolled": false
   },
   "outputs": [
    {
     "data": {
      "text/html": [
       "<script>\n",
       "code_show=true; \n",
       "function code_toggle() {\n",
       "  if (code_show) {\n",
       "    $('div.input').each(function(id) {\n",
       "      el = $(this).find('.cm-variable:first');\n",
       "      if (id == 0 || el.text() == 'hide_me') {\n",
       "        $(this).hide();\n",
       "      }\n",
       "    });\n",
       "    $('div.output_prompt').css('opacity', 0);\n",
       "  } else {\n",
       "    $('div.input').each(function(id) {\n",
       "      $(this).show();\n",
       "    });\n",
       "    $('div.output_prompt').css('opacity', 1);\n",
       "  }\n",
       "  code_show = !code_show\n",
       "} \n",
       "$( document ).ready(code_toggle);\n",
       "</script>\n",
       "<form action=\"javascript:code_toggle()\"><input style=\"opacity:0\" type=\"submit\" value=\"Click here to toggle on/off the raw code.\"></form>"
      ],
      "text/plain": [
       "<IPython.core.display.HTML object>"
      ]
     },
     "execution_count": 3,
     "metadata": {},
     "output_type": "execute_result"
    }
   ],
   "source": [
    "# This is a cell to hide code snippets from displaying\n",
    "# This must be at first cell!\n",
    "\n",
    "from IPython.display import HTML\n",
    "\n",
    "hide_me = ''\n",
    "HTML('''<script>\n",
    "code_show=true; \n",
    "function code_toggle() {\n",
    "  if (code_show) {\n",
    "    $('div.input').each(function(id) {\n",
    "      el = $(this).find('.cm-variable:first');\n",
    "      if (id == 0 || el.text() == 'hide_me') {\n",
    "        $(this).hide();\n",
    "      }\n",
    "    });\n",
    "    $('div.output_prompt').css('opacity', 0);\n",
    "  } else {\n",
    "    $('div.input').each(function(id) {\n",
    "      $(this).show();\n",
    "    });\n",
    "    $('div.output_prompt').css('opacity', 1);\n",
    "  }\n",
    "  code_show = !code_show\n",
    "} \n",
    "$( document ).ready(code_toggle);\n",
    "</script>\n",
    "<form action=\"javascript:code_toggle()\"><input style=\"opacity:0\" type=\"submit\" value=\"Click here to toggle on/off the raw code.\"></form>''')"
   ]
  },
  {
   "cell_type": "markdown",
   "metadata": {},
   "source": [
    "# Lissajous-curves\n",
    "Plot two-dimensional curves (for instances the so-called LIssajous curves) with a prescribed parametrization\n",
    "\n",
    "### Use\n",
    "This notebook plots any parametrized cruve of the form $(x(t), y(t))$ with $t\\in[-\\pi,\\pi]$. Functions $x(t)$ and $y(t)$ must be introduced by the user. The curve is always plotted in the square $[-1,1]\\times [-1,1]$.\n",
    "\n",
    "To execute this notebook, please go to the top menu and click on ``Cell -> Run all``\n",
    "\n",
    "----\n",
    "\n",
    "In case of **error** or **warning** messages, please go to the top menu and click on ``Cell -> Run all``\n"
   ]
  },
  {
   "cell_type": "code",
   "execution_count": 4,
   "metadata": {},
   "outputs": [
    {
     "data": {
      "application/vnd.jupyter.widget-view+json": {
       "model_id": "6d168f6613154eaebf24dd959e1491b1",
       "version_major": 2,
       "version_minor": 0
      },
      "text/plain": [
       "VBox(children=(Output(), Text(value='', description='Function x(t):', placeholder='x(t)'), Text(value='', desc…"
      ]
     },
     "metadata": {},
     "output_type": "display_data"
    }
   ],
   "source": [
    "hide_me\n",
    "from numpy import *\n",
    "import matplotlib.pyplot as plt\n",
    "import ipywidgets as widgets\n",
    "from IPython.display import display, clear_output\n",
    "%matplotlib inline\n",
    "\n",
    "# To prevent automatic figure display when execution of the cell ends\n",
    "%config InlineBackend.close_figures=False \n",
    "\n",
    "time = linspace(-pi, pi, 1000)\n",
    "plt.ioff()\n",
    "ax=plt.gca()\n",
    "plt.plot(time,time,'b')\n",
    "plt.xlabel('$x(t)$')\n",
    "plt.ylabel('$y(t)$')\n",
    "plt.axis('square')\n",
    "plt.xlim([-1.,1.])\n",
    "plt.ylim([-1.,1.])\n",
    "out=widgets.Output()\n",
    "\n",
    "def plot(t=0):\n",
    "    ax.lines[0].set_xdata(xfun(time))\n",
    "    ax.lines[0].set_ydata(yfun(time))\n",
    "    with out:\n",
    "        clear_output(wait=True)\n",
    "        display(ax.figure)\n",
    "    \n",
    "# Cells for x(t) and y(t)\n",
    "x = widgets.Text(\n",
    "    value='',\n",
    "    placeholder='x(t)',\n",
    "    description='Function x(t):',\n",
    "    disabled=False\n",
    ")\n",
    "y = widgets.Text(\n",
    "    value='',\n",
    "    placeholder='y(t)',\n",
    "    description='Function y(t):',\n",
    "    disabled=False\n",
    ")\n",
    "\n",
    "button=widgets.Button(\n",
    "    description='Plot',\n",
    "    disabled=False,\n",
    "    button_style='',\n",
    "    tooltip='Plot',\n",
    "    icon='check'\n",
    ")\n",
    "vbox=widgets.VBox(children=(out,x,y,button))\n",
    "display(vbox) \n",
    "\n",
    "def on_button_clicked(b):\n",
    "    xfun = lambda t: eval(x.value)\n",
    "    yfun = lambda t: eval(y.value)\n",
    "    ax.lines[0].set_xdata(xfun(time))\n",
    "    ax.lines[0].set_ydata(yfun(time))\n",
    "    plt.axis('square')\n",
    "    plt.xlim([-1.,1.])\n",
    "    plt.ylim([-1.,1.])\n",
    "    with out:\n",
    "        clear_output(wait=True)\n",
    "        display(ax.figure)\n",
    "    \n",
    "button.on_click(on_button_clicked)"
   ]
  }
 ],
 "metadata": {
  "kernelspec": {
   "display_name": "Python 3",
   "language": "python",
   "name": "python3"
  },
  "language_info": {
   "codemirror_mode": {
    "name": "ipython",
    "version": 3
   },
   "file_extension": ".py",
   "mimetype": "text/x-python",
   "name": "python",
   "nbconvert_exporter": "python",
   "pygments_lexer": "ipython3",
   "version": "3.7.8"
  }
 },
 "nbformat": 4,
 "nbformat_minor": 2
}
